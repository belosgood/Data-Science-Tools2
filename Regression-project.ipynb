{
 "cells": [
  {
   "cell_type": "markdown",
   "metadata": {},
   "source": [
    "# Regression with Fishing Data\n",
    "#### University of Denver\n",
    "## Isabel Osgood"
   ]
  },
  {
   "cell_type": "code",
   "execution_count": 19,
   "metadata": {},
   "outputs": [],
   "source": [
    "import pandas as pd\n",
    "import numpy as np\n",
    "from sklearn.preprocessing import StandardScaler\n",
    "from sklearn.model_selection import train_test_split\n",
    "from sklearn.linear_model import LinearRegression\n",
    "from sklearn.metrics import mean_squared_error\n",
    "from sklearn.linear_model import Lasso"
   ]
  },
  {
   "cell_type": "code",
   "execution_count": 20,
   "metadata": {},
   "outputs": [
    {
     "data": {
      "text/html": [
       "<div>\n",
       "<style scoped>\n",
       "    .dataframe tbody tr th:only-of-type {\n",
       "        vertical-align: middle;\n",
       "    }\n",
       "\n",
       "    .dataframe tbody tr th {\n",
       "        vertical-align: top;\n",
       "    }\n",
       "\n",
       "    .dataframe thead th {\n",
       "        text-align: right;\n",
       "    }\n",
       "</style>\n",
       "<table border=\"1\" class=\"dataframe\">\n",
       "  <thead>\n",
       "    <tr style=\"text-align: right;\">\n",
       "      <th></th>\n",
       "      <th>Unnamed: 0</th>\n",
       "      <th>mode</th>\n",
       "      <th>price</th>\n",
       "      <th>catch</th>\n",
       "      <th>pbeach</th>\n",
       "      <th>ppier</th>\n",
       "      <th>pboat</th>\n",
       "      <th>pcharter</th>\n",
       "      <th>cbeach</th>\n",
       "      <th>cpier</th>\n",
       "      <th>cboat</th>\n",
       "      <th>ccharter</th>\n",
       "      <th>income</th>\n",
       "    </tr>\n",
       "  </thead>\n",
       "  <tbody>\n",
       "    <tr>\n",
       "      <th>0</th>\n",
       "      <td>1</td>\n",
       "      <td>charter</td>\n",
       "      <td>182.930</td>\n",
       "      <td>0.5391</td>\n",
       "      <td>157.930</td>\n",
       "      <td>157.930</td>\n",
       "      <td>157.930</td>\n",
       "      <td>182.930</td>\n",
       "      <td>0.0678</td>\n",
       "      <td>0.0503</td>\n",
       "      <td>0.2601</td>\n",
       "      <td>0.5391</td>\n",
       "      <td>7083.3317</td>\n",
       "    </tr>\n",
       "    <tr>\n",
       "      <th>1</th>\n",
       "      <td>2</td>\n",
       "      <td>charter</td>\n",
       "      <td>34.534</td>\n",
       "      <td>0.4671</td>\n",
       "      <td>15.114</td>\n",
       "      <td>15.114</td>\n",
       "      <td>10.534</td>\n",
       "      <td>34.534</td>\n",
       "      <td>0.1049</td>\n",
       "      <td>0.0451</td>\n",
       "      <td>0.1574</td>\n",
       "      <td>0.4671</td>\n",
       "      <td>1249.9998</td>\n",
       "    </tr>\n",
       "    <tr>\n",
       "      <th>2</th>\n",
       "      <td>3</td>\n",
       "      <td>boat</td>\n",
       "      <td>24.334</td>\n",
       "      <td>0.2413</td>\n",
       "      <td>161.874</td>\n",
       "      <td>161.874</td>\n",
       "      <td>24.334</td>\n",
       "      <td>59.334</td>\n",
       "      <td>0.5333</td>\n",
       "      <td>0.4522</td>\n",
       "      <td>0.2413</td>\n",
       "      <td>1.0266</td>\n",
       "      <td>3749.9999</td>\n",
       "    </tr>\n",
       "    <tr>\n",
       "      <th>3</th>\n",
       "      <td>4</td>\n",
       "      <td>pier</td>\n",
       "      <td>15.134</td>\n",
       "      <td>0.0789</td>\n",
       "      <td>15.134</td>\n",
       "      <td>15.134</td>\n",
       "      <td>55.930</td>\n",
       "      <td>84.930</td>\n",
       "      <td>0.0678</td>\n",
       "      <td>0.0789</td>\n",
       "      <td>0.1643</td>\n",
       "      <td>0.5391</td>\n",
       "      <td>2083.3332</td>\n",
       "    </tr>\n",
       "    <tr>\n",
       "      <th>4</th>\n",
       "      <td>5</td>\n",
       "      <td>boat</td>\n",
       "      <td>41.514</td>\n",
       "      <td>0.1082</td>\n",
       "      <td>106.930</td>\n",
       "      <td>106.930</td>\n",
       "      <td>41.514</td>\n",
       "      <td>71.014</td>\n",
       "      <td>0.0678</td>\n",
       "      <td>0.0503</td>\n",
       "      <td>0.1082</td>\n",
       "      <td>0.3240</td>\n",
       "      <td>4583.3320</td>\n",
       "    </tr>\n",
       "  </tbody>\n",
       "</table>\n",
       "</div>"
      ],
      "text/plain": [
       "   Unnamed: 0     mode    price   catch   pbeach    ppier    pboat  pcharter  \\\n",
       "0           1  charter  182.930  0.5391  157.930  157.930  157.930   182.930   \n",
       "1           2  charter   34.534  0.4671   15.114   15.114   10.534    34.534   \n",
       "2           3     boat   24.334  0.2413  161.874  161.874   24.334    59.334   \n",
       "3           4     pier   15.134  0.0789   15.134   15.134   55.930    84.930   \n",
       "4           5     boat   41.514  0.1082  106.930  106.930   41.514    71.014   \n",
       "\n",
       "   cbeach   cpier   cboat  ccharter     income  \n",
       "0  0.0678  0.0503  0.2601    0.5391  7083.3317  \n",
       "1  0.1049  0.0451  0.1574    0.4671  1249.9998  \n",
       "2  0.5333  0.4522  0.2413    1.0266  3749.9999  \n",
       "3  0.0678  0.0789  0.1643    0.5391  2083.3332  \n",
       "4  0.0678  0.0503  0.1082    0.3240  4583.3320  "
      ]
     },
     "execution_count": 20,
     "metadata": {},
     "output_type": "execute_result"
    }
   ],
   "source": [
    "#data from fishing boats \n",
    "fishdf = pd.read_csv(\"Fishing.csv\")\n",
    "\n",
    "fishdf.head()"
   ]
  },
  {
   "cell_type": "code",
   "execution_count": 21,
   "metadata": {},
   "outputs": [],
   "source": [
    "#drop first two columns: 0 error 1 categorical \n",
    "fishdf = fishdf.drop(['Unnamed: 0', 'mode'], axis = 1) \n",
    "\n",
    "#standardize \n",
    "scalar = StandardScaler()\n",
    "fish_standard = pd.DataFrame(scalar.fit_transform(fishdf), columns=fishdf.columns)\n",
    "fish_standard\n",
    "\n",
    "#split \n",
    "y = fish_standard['income']\n",
    "X = fish_standard.drop(['income'], axis = 1)\n",
    "X_train, X_test, y_train, y_test = train_test_split(X, y, test_size=0.33, random_state=42)"
   ]
  },
  {
   "cell_type": "code",
   "execution_count": 22,
   "metadata": {},
   "outputs": [
    {
     "name": "stdout",
     "output_type": "stream",
     "text": [
      "Training MSE\n",
      "  0.5178569620341031\n",
      "Testing MSE\n",
      "  0.46038632570242666\n"
     ]
    }
   ],
   "source": [
    "#create linear model \n",
    "lr = LinearRegression()\n",
    "fish_lr = lr.fit(X_train, y_train)\n",
    "#predict\n",
    "train_pred = fish_lr.predict(X_train)\n",
    "test_pred = fish_lr.predict(X_test)\n",
    "\n",
    "#get MSE per train and test\n",
    "print(\"Training MSE\")\n",
    "print(' ', mean_squared_error(y_train, train_pred))\n",
    "print(\"Testing MSE\")\n",
    "print(' ', mean_squared_error(y_test, test_pred))\n",
    "#print(mean_squared_error(y_train, train_pred) + mean_squared_error(y_test, test_pred))"
   ]
  },
  {
   "cell_type": "code",
   "execution_count": 23,
   "metadata": {},
   "outputs": [
    {
     "name": "stdout",
     "output_type": "stream",
     "text": [
      "Training MSE\n",
      "  1.0299873618704116\n",
      "Testing MSE\n",
      "  0.9394094633874402\n"
     ]
    }
   ],
   "source": [
    "#Lasso model \n",
    "lasso = Lasso()\n",
    "fish_las = lasso.fit(X_train, y_train)\n",
    "#predict\n",
    "train_pred = fish_las.predict(X_train)\n",
    "test_pred = fish_las.predict(X_test)\n",
    "\n",
    "#get MSE per train and test\n",
    "print(\"Training MSE\")\n",
    "print(' ', mean_squared_error(y_train, train_pred))\n",
    "print(\"Testing MSE\")\n",
    "print(' ', mean_squared_error(y_test, test_pred))\n",
    "#print(mean_squared_error(y_train, train_pred) + mean_squared_error(y_test, test_pred))"
   ]
  },
  {
   "cell_type": "code",
   "execution_count": 24,
   "metadata": {},
   "outputs": [
    {
     "name": "stdout",
     "output_type": "stream",
     "text": [
      "Training MSE\n",
      "  0.5193965448142415\n",
      "Testing MSE\n",
      "  0.46027976053671205\n"
     ]
    }
   ],
   "source": [
    "from sklearn.linear_model import Ridge\n",
    "#Ridge model \n",
    "r = Ridge()\n",
    "r = r.fit(X_train, y_train)\n",
    "#predict\n",
    "train_pred = r.predict(X_train)\n",
    "test_pred = r.predict(X_test)\n",
    "\n",
    "#get MSE per train and test\n",
    "print(\"Training MSE\")\n",
    "print(' ', mean_squared_error(y_train, train_pred))\n",
    "print(\"Testing MSE\")\n",
    "print(' ', mean_squared_error(y_test, test_pred))\n",
    "\n",
    "#print(mean_squared_error(y_train, train_pred) +mean_squared_error(y_test, test_pred))"
   ]
  },
  {
   "cell_type": "code",
   "execution_count": 28,
   "metadata": {},
   "outputs": [
    {
     "data": {
      "text/plain": [
       "{'alpha': 0.1}"
      ]
     },
     "execution_count": 28,
     "metadata": {},
     "output_type": "execute_result"
    }
   ],
   "source": [
    "from sklearn.model_selection import GridSearchCV\n",
    "#Tuning Lasso and Ridge alphas \n",
    "\n",
    "alpha_grid = {'alpha': [0.1, 0.2, 0.4, 0.6, 1.0, 1.4]}\n",
    "lasso = GridSearchCV(estimator=Lasso(), param_grid = alpha_grid)\n",
    "model = lasso.fit(X_train, y_train)\n",
    "model.best_params_\n"
   ]
  },
  {
   "cell_type": "code",
   "execution_count": 29,
   "metadata": {},
   "outputs": [
    {
     "data": {
      "text/plain": [
       "{'alpha': 0.4}"
      ]
     },
     "execution_count": 29,
     "metadata": {},
     "output_type": "execute_result"
    }
   ],
   "source": [
    "ridge = GridSearchCV(Ridge(), alpha_grid)\n",
    "model = ridge.fit(X_train, y_train)\n",
    "model.best_params_"
   ]
  },
  {
   "cell_type": "code",
   "execution_count": null,
   "metadata": {},
   "outputs": [],
   "source": []
  }
 ],
 "metadata": {
  "kernelspec": {
   "display_name": "Python 3",
   "language": "python",
   "name": "python3"
  },
  "language_info": {
   "codemirror_mode": {
    "name": "ipython",
    "version": 3
   },
   "file_extension": ".py",
   "mimetype": "text/x-python",
   "name": "python",
   "nbconvert_exporter": "python",
   "pygments_lexer": "ipython3",
   "version": "3.7.3"
  }
 },
 "nbformat": 4,
 "nbformat_minor": 4
}
